{
 "cells": [
  {
   "cell_type": "code",
   "execution_count": 5,
   "id": "31126144",
   "metadata": {
    "ExecuteTime": {
     "end_time": "2022-12-08T16:12:44.289625Z",
     "start_time": "2022-12-08T16:12:44.271326Z"
    }
   },
   "outputs": [],
   "source": [
    "import scipy.stats as stats\n",
    "import statsmodels.api as sm\n",
    "import numpy as np\n",
    "import pandas as pd\n",
    "import warnings\n",
    "warnings.filterwarnings(\"ignore\")"
   ]
  },
  {
   "cell_type": "code",
   "execution_count": 6,
   "id": "01e882ee",
   "metadata": {
    "ExecuteTime": {
     "end_time": "2022-12-08T16:12:45.022966Z",
     "start_time": "2022-12-08T16:12:45.007255Z"
    }
   },
   "outputs": [
    {
     "data": {
      "text/html": [
       "<div>\n",
       "<style scoped>\n",
       "    .dataframe tbody tr th:only-of-type {\n",
       "        vertical-align: middle;\n",
       "    }\n",
       "\n",
       "    .dataframe tbody tr th {\n",
       "        vertical-align: top;\n",
       "    }\n",
       "\n",
       "    .dataframe thead th {\n",
       "        text-align: right;\n",
       "    }\n",
       "</style>\n",
       "<table border=\"1\" class=\"dataframe\">\n",
       "  <thead>\n",
       "    <tr style=\"text-align: right;\">\n",
       "      <th></th>\n",
       "      <th>Unit A</th>\n",
       "      <th>Unit B</th>\n",
       "    </tr>\n",
       "  </thead>\n",
       "  <tbody>\n",
       "    <tr>\n",
       "      <th>0</th>\n",
       "      <td>6.8090</td>\n",
       "      <td>6.7703</td>\n",
       "    </tr>\n",
       "    <tr>\n",
       "      <th>1</th>\n",
       "      <td>6.4376</td>\n",
       "      <td>7.5093</td>\n",
       "    </tr>\n",
       "    <tr>\n",
       "      <th>2</th>\n",
       "      <td>6.9157</td>\n",
       "      <td>6.7300</td>\n",
       "    </tr>\n",
       "    <tr>\n",
       "      <th>3</th>\n",
       "      <td>7.3012</td>\n",
       "      <td>6.7878</td>\n",
       "    </tr>\n",
       "    <tr>\n",
       "      <th>4</th>\n",
       "      <td>7.4488</td>\n",
       "      <td>7.1522</td>\n",
       "    </tr>\n",
       "    <tr>\n",
       "      <th>5</th>\n",
       "      <td>7.3871</td>\n",
       "      <td>6.8110</td>\n",
       "    </tr>\n",
       "    <tr>\n",
       "      <th>6</th>\n",
       "      <td>6.8755</td>\n",
       "      <td>7.2212</td>\n",
       "    </tr>\n",
       "    <tr>\n",
       "      <th>7</th>\n",
       "      <td>7.0621</td>\n",
       "      <td>6.6606</td>\n",
       "    </tr>\n",
       "    <tr>\n",
       "      <th>8</th>\n",
       "      <td>6.6840</td>\n",
       "      <td>7.2402</td>\n",
       "    </tr>\n",
       "    <tr>\n",
       "      <th>9</th>\n",
       "      <td>6.8236</td>\n",
       "      <td>7.0503</td>\n",
       "    </tr>\n",
       "    <tr>\n",
       "      <th>10</th>\n",
       "      <td>7.3930</td>\n",
       "      <td>6.8810</td>\n",
       "    </tr>\n",
       "    <tr>\n",
       "      <th>11</th>\n",
       "      <td>7.5169</td>\n",
       "      <td>7.4059</td>\n",
       "    </tr>\n",
       "    <tr>\n",
       "      <th>12</th>\n",
       "      <td>6.9246</td>\n",
       "      <td>6.7652</td>\n",
       "    </tr>\n",
       "    <tr>\n",
       "      <th>13</th>\n",
       "      <td>6.9256</td>\n",
       "      <td>6.0380</td>\n",
       "    </tr>\n",
       "    <tr>\n",
       "      <th>14</th>\n",
       "      <td>6.5797</td>\n",
       "      <td>7.1581</td>\n",
       "    </tr>\n",
       "    <tr>\n",
       "      <th>15</th>\n",
       "      <td>6.8394</td>\n",
       "      <td>7.0240</td>\n",
       "    </tr>\n",
       "    <tr>\n",
       "      <th>16</th>\n",
       "      <td>6.5970</td>\n",
       "      <td>6.6672</td>\n",
       "    </tr>\n",
       "    <tr>\n",
       "      <th>17</th>\n",
       "      <td>7.2705</td>\n",
       "      <td>7.4314</td>\n",
       "    </tr>\n",
       "    <tr>\n",
       "      <th>18</th>\n",
       "      <td>7.2828</td>\n",
       "      <td>7.3070</td>\n",
       "    </tr>\n",
       "    <tr>\n",
       "      <th>19</th>\n",
       "      <td>7.3495</td>\n",
       "      <td>6.7478</td>\n",
       "    </tr>\n",
       "    <tr>\n",
       "      <th>20</th>\n",
       "      <td>6.9438</td>\n",
       "      <td>6.8889</td>\n",
       "    </tr>\n",
       "    <tr>\n",
       "      <th>21</th>\n",
       "      <td>7.1560</td>\n",
       "      <td>7.4220</td>\n",
       "    </tr>\n",
       "    <tr>\n",
       "      <th>22</th>\n",
       "      <td>6.5341</td>\n",
       "      <td>6.5217</td>\n",
       "    </tr>\n",
       "    <tr>\n",
       "      <th>23</th>\n",
       "      <td>7.2854</td>\n",
       "      <td>7.1688</td>\n",
       "    </tr>\n",
       "    <tr>\n",
       "      <th>24</th>\n",
       "      <td>6.9952</td>\n",
       "      <td>6.7594</td>\n",
       "    </tr>\n",
       "    <tr>\n",
       "      <th>25</th>\n",
       "      <td>6.8568</td>\n",
       "      <td>6.9399</td>\n",
       "    </tr>\n",
       "    <tr>\n",
       "      <th>26</th>\n",
       "      <td>7.2163</td>\n",
       "      <td>7.0133</td>\n",
       "    </tr>\n",
       "    <tr>\n",
       "      <th>27</th>\n",
       "      <td>6.6801</td>\n",
       "      <td>6.9182</td>\n",
       "    </tr>\n",
       "    <tr>\n",
       "      <th>28</th>\n",
       "      <td>6.9431</td>\n",
       "      <td>6.3346</td>\n",
       "    </tr>\n",
       "    <tr>\n",
       "      <th>29</th>\n",
       "      <td>7.0852</td>\n",
       "      <td>7.5459</td>\n",
       "    </tr>\n",
       "    <tr>\n",
       "      <th>30</th>\n",
       "      <td>6.7794</td>\n",
       "      <td>7.0992</td>\n",
       "    </tr>\n",
       "    <tr>\n",
       "      <th>31</th>\n",
       "      <td>7.2783</td>\n",
       "      <td>7.1180</td>\n",
       "    </tr>\n",
       "    <tr>\n",
       "      <th>32</th>\n",
       "      <td>7.1561</td>\n",
       "      <td>6.6965</td>\n",
       "    </tr>\n",
       "    <tr>\n",
       "      <th>33</th>\n",
       "      <td>7.3943</td>\n",
       "      <td>6.5780</td>\n",
       "    </tr>\n",
       "    <tr>\n",
       "      <th>34</th>\n",
       "      <td>6.9405</td>\n",
       "      <td>7.3875</td>\n",
       "    </tr>\n",
       "  </tbody>\n",
       "</table>\n",
       "</div>"
      ],
      "text/plain": [
       "    Unit A  Unit B\n",
       "0   6.8090  6.7703\n",
       "1   6.4376  7.5093\n",
       "2   6.9157  6.7300\n",
       "3   7.3012  6.7878\n",
       "4   7.4488  7.1522\n",
       "5   7.3871  6.8110\n",
       "6   6.8755  7.2212\n",
       "7   7.0621  6.6606\n",
       "8   6.6840  7.2402\n",
       "9   6.8236  7.0503\n",
       "10  7.3930  6.8810\n",
       "11  7.5169  7.4059\n",
       "12  6.9246  6.7652\n",
       "13  6.9256  6.0380\n",
       "14  6.5797  7.1581\n",
       "15  6.8394  7.0240\n",
       "16  6.5970  6.6672\n",
       "17  7.2705  7.4314\n",
       "18  7.2828  7.3070\n",
       "19  7.3495  6.7478\n",
       "20  6.9438  6.8889\n",
       "21  7.1560  7.4220\n",
       "22  6.5341  6.5217\n",
       "23  7.2854  7.1688\n",
       "24  6.9952  6.7594\n",
       "25  6.8568  6.9399\n",
       "26  7.2163  7.0133\n",
       "27  6.6801  6.9182\n",
       "28  6.9431  6.3346\n",
       "29  7.0852  7.5459\n",
       "30  6.7794  7.0992\n",
       "31  7.2783  7.1180\n",
       "32  7.1561  6.6965\n",
       "33  7.3943  6.5780\n",
       "34  6.9405  7.3875"
      ]
     },
     "execution_count": 6,
     "metadata": {},
     "output_type": "execute_result"
    }
   ],
   "source": [
    "cutlets_data = pd.read_csv('Cutlets.csv')\n",
    "cutlets_data"
   ]
  },
  {
   "cell_type": "code",
   "execution_count": 7,
   "id": "4065483d",
   "metadata": {
    "ExecuteTime": {
     "end_time": "2022-12-08T16:12:46.015307Z",
     "start_time": "2022-12-08T16:12:45.999981Z"
    }
   },
   "outputs": [
    {
     "data": {
      "text/plain": [
       "(35, 2)"
      ]
     },
     "execution_count": 7,
     "metadata": {},
     "output_type": "execute_result"
    }
   ],
   "source": [
    "cutlets_data.shape"
   ]
  },
  {
   "cell_type": "markdown",
   "id": "72682149",
   "metadata": {},
   "source": [
    "# Appling Descriptive Statistics"
   ]
  },
  {
   "cell_type": "code",
   "execution_count": 15,
   "id": "b4b7c692",
   "metadata": {
    "ExecuteTime": {
     "end_time": "2022-12-08T16:14:29.969304Z",
     "start_time": "2022-12-08T16:14:29.942401Z"
    }
   },
   "outputs": [
    {
     "data": {
      "text/html": [
       "<div>\n",
       "<style scoped>\n",
       "    .dataframe tbody tr th:only-of-type {\n",
       "        vertical-align: middle;\n",
       "    }\n",
       "\n",
       "    .dataframe tbody tr th {\n",
       "        vertical-align: top;\n",
       "    }\n",
       "\n",
       "    .dataframe thead th {\n",
       "        text-align: right;\n",
       "    }\n",
       "</style>\n",
       "<table border=\"1\" class=\"dataframe\">\n",
       "  <thead>\n",
       "    <tr style=\"text-align: right;\">\n",
       "      <th></th>\n",
       "      <th>Unit A</th>\n",
       "      <th>Unit B</th>\n",
       "    </tr>\n",
       "  </thead>\n",
       "  <tbody>\n",
       "    <tr>\n",
       "      <th>count</th>\n",
       "      <td>35.000000</td>\n",
       "      <td>35.000000</td>\n",
       "    </tr>\n",
       "    <tr>\n",
       "      <th>mean</th>\n",
       "      <td>7.019091</td>\n",
       "      <td>6.964297</td>\n",
       "    </tr>\n",
       "    <tr>\n",
       "      <th>std</th>\n",
       "      <td>0.288408</td>\n",
       "      <td>0.343401</td>\n",
       "    </tr>\n",
       "    <tr>\n",
       "      <th>min</th>\n",
       "      <td>6.437600</td>\n",
       "      <td>6.038000</td>\n",
       "    </tr>\n",
       "    <tr>\n",
       "      <th>25%</th>\n",
       "      <td>6.831500</td>\n",
       "      <td>6.753600</td>\n",
       "    </tr>\n",
       "    <tr>\n",
       "      <th>50%</th>\n",
       "      <td>6.943800</td>\n",
       "      <td>6.939900</td>\n",
       "    </tr>\n",
       "    <tr>\n",
       "      <th>75%</th>\n",
       "      <td>7.280550</td>\n",
       "      <td>7.195000</td>\n",
       "    </tr>\n",
       "    <tr>\n",
       "      <th>max</th>\n",
       "      <td>7.516900</td>\n",
       "      <td>7.545900</td>\n",
       "    </tr>\n",
       "  </tbody>\n",
       "</table>\n",
       "</div>"
      ],
      "text/plain": [
       "          Unit A     Unit B\n",
       "count  35.000000  35.000000\n",
       "mean    7.019091   6.964297\n",
       "std     0.288408   0.343401\n",
       "min     6.437600   6.038000\n",
       "25%     6.831500   6.753600\n",
       "50%     6.943800   6.939900\n",
       "75%     7.280550   7.195000\n",
       "max     7.516900   7.545900"
      ]
     },
     "execution_count": 15,
     "metadata": {},
     "output_type": "execute_result"
    }
   ],
   "source": [
    "cutlets_data.describe()"
   ]
  },
  {
   "cell_type": "markdown",
   "id": "a6909ec7",
   "metadata": {},
   "source": [
    "# Checking for Null Values"
   ]
  },
  {
   "cell_type": "code",
   "execution_count": 17,
   "id": "068fe291",
   "metadata": {
    "ExecuteTime": {
     "end_time": "2022-12-08T16:14:49.966861Z",
     "start_time": "2022-12-08T16:14:49.945225Z"
    }
   },
   "outputs": [
    {
     "data": {
      "text/plain": [
       "Unit A    0\n",
       "Unit B    0\n",
       "dtype: int64"
      ]
     },
     "execution_count": 17,
     "metadata": {},
     "output_type": "execute_result"
    }
   ],
   "source": [
    "cutlets_data.isnull().sum()"
   ]
  },
  {
   "cell_type": "code",
   "execution_count": 18,
   "id": "31744fcd",
   "metadata": {
    "ExecuteTime": {
     "end_time": "2022-12-08T16:14:53.643514Z",
     "start_time": "2022-12-08T16:14:53.632657Z"
    }
   },
   "outputs": [],
   "source": [
    "unit_a = cutlets_data['Unit A']\n",
    "unit_b = cutlets_data['Unit B']"
   ]
  },
  {
   "cell_type": "code",
   "execution_count": 21,
   "id": "e9fd61a6",
   "metadata": {
    "ExecuteTime": {
     "end_time": "2022-12-08T16:15:40.067316Z",
     "start_time": "2022-12-08T16:15:40.055768Z"
    }
   },
   "outputs": [
    {
     "name": "stdout",
     "output_type": "stream",
     "text": [
      "p-value= 0.4722394724599501\n"
     ]
    }
   ],
   "source": [
    "statistic , p_value = stats.ttest_ind(cutlets_data['Unit A'],cutlets_data['Unit B'],alternative= 'two-sided')\n",
    "print('p-value=',p_value)"
   ]
  },
  {
   "cell_type": "code",
   "execution_count": 22,
   "id": "347459cb",
   "metadata": {
    "ExecuteTime": {
     "end_time": "2022-12-08T16:15:46.835967Z",
     "start_time": "2022-12-08T16:15:46.827538Z"
    }
   },
   "outputs": [
    {
     "name": "stdout",
     "output_type": "stream",
     "text": [
      "Significnace=0.025, p=0.472\n",
      "We fail to reject Null hypothesis\n"
     ]
    }
   ],
   "source": [
    "alpha = 0.025\n",
    "print('Significnace=%.3f, p=%.3f' % (alpha, p_value))\n",
    "if p_value <= alpha:\n",
    "    print('we reject Null Hypothesis there is a significance difference between two Unit A and Unit B')\n",
    "else:\n",
    "    print('We fail to reject Null hypothesis')"
   ]
  },
  {
   "cell_type": "code",
   "execution_count": null,
   "id": "2118a0da",
   "metadata": {},
   "outputs": [],
   "source": []
  },
  {
   "cell_type": "code",
   "execution_count": null,
   "id": "53174a73",
   "metadata": {},
   "outputs": [],
   "source": []
  }
 ],
 "metadata": {
  "kernelspec": {
   "display_name": "Python 3 (ipykernel)",
   "language": "python",
   "name": "python3"
  },
  "language_info": {
   "codemirror_mode": {
    "name": "ipython",
    "version": 3
   },
   "file_extension": ".py",
   "mimetype": "text/x-python",
   "name": "python",
   "nbconvert_exporter": "python",
   "pygments_lexer": "ipython3",
   "version": "3.9.13"
  }
 },
 "nbformat": 4,
 "nbformat_minor": 5
}
